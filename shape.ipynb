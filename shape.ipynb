{
 "cells": [
  {
   "cell_type": "code",
   "execution_count": 1,
   "metadata": {
    "ExecuteTime": {
     "end_time": "2020-01-22T05:09:20.039189Z",
     "start_time": "2020-01-22T05:09:18.045937Z"
    }
   },
   "outputs": [
    {
     "name": "stderr",
     "output_type": "stream",
     "text": [
      "Using TensorFlow backend.\n"
     ]
    }
   ],
   "source": [
    "import numpy as np\n",
    "import tensorflow as tf\n",
    "from matplotlib import pyplot as plt\n",
    "from keras.models import Sequential\n",
    "from keras.layers import Dense\n",
    "from keras.layers import Flatten\n",
    "from keras.layers.convolutional import Conv2D\n",
    "from keras.layers.convolutional import MaxPooling2D\n",
    "from keras.models import Sequential\n",
    "from keras.layers import Activation, Dense\n",
    "from keras import optimizers\n",
    "from keras.layers import BatchNormalization\n",
    "from keras.layers import Dropout\n",
    "from keras.utils.np_utils import to_categorical\n",
    "from keras.layers import BatchNormalization, Dropout\n",
    "import cv2\n"
   ]
  },
  {
   "cell_type": "code",
   "execution_count": 2,
   "metadata": {
    "ExecuteTime": {
     "end_time": "2020-01-22T05:09:20.057400Z",
     "start_time": "2020-01-22T05:09:20.040642Z"
    }
   },
   "outputs": [],
   "source": [
    "X_train = np.zeros((15*3, 24,24))\n",
    "y_train = np.zeros(15*3)\n",
    "\n",
    "for i in range(15) :    \n",
    "    img = cv2.imread('hard_handwriting_shape/train/circle/circle{0:03d}.png'.format(i+1), 0)        \n",
    "    X_train[i,:,:] = img\n",
    "    y_train[i] = 0\n",
    "    \n",
    "for i in range(15) :    \n",
    "    img = cv2.imread('hard_handwriting_shape/train/rectangle/rectangle{0:03d}.png'.format(i+1), 0)        \n",
    "    X_train[15+i,:,:] = img\n",
    "    y_train[15+i] = 1\n",
    "    \n",
    "for i in range(15) :    \n",
    "    img = cv2.imread('hard_handwriting_shape/train/triangle/triangle{0:03d}.png'.format(i+1), 0)        \n",
    "    X_train[30+i,:,:] = img\n",
    "    y_train[30+i] = 2     \n",
    "    \n",
    "\n"
   ]
  },
  {
   "cell_type": "code",
   "execution_count": 3,
   "metadata": {
    "ExecuteTime": {
     "end_time": "2020-01-22T05:09:20.073940Z",
     "start_time": "2020-01-22T05:09:20.057400Z"
    }
   },
   "outputs": [],
   "source": [
    "X_test = np.zeros((5*3, 24,24))\n",
    "y_test = np.zeros(5*3)\n",
    "\n",
    "for i in range(5) :    \n",
    "    img = cv2.imread('hard_handwriting_shape/test/circle/circle{0:03d}.png'.format(i+16), 0)        \n",
    "    X_test[i,:,:] = img\n",
    "    y_test[i] = 0\n",
    "    \n",
    "for i in range(5) :    \n",
    "    img = cv2.imread('hard_handwriting_shape/test/rectangle/rectangle{0:03d}.png'.format(i+16), 0)        \n",
    "    X_test[5+i,:,:] = img\n",
    "    y_test[5+i] = 1\n",
    "    \n",
    "for i in range(5) :    \n",
    "    img = cv2.imread('hard_handwriting_shape/test/triangle/triangle{0:03d}.png'.format(i+16), 0)        \n",
    "    X_test[10+i,:,:] = img\n",
    "    y_test[10+i] = 2"
   ]
  },
  {
   "cell_type": "code",
   "execution_count": 4,
   "metadata": {
    "ExecuteTime": {
     "end_time": "2020-01-22T05:09:20.179656Z",
     "start_time": "2020-01-22T05:09:20.075934Z"
    }
   },
   "outputs": [
    {
     "name": "stderr",
     "output_type": "stream",
     "text": [
      "C:\\ProgramData\\Anaconda3\\lib\\site-packages\\matplotlib\\image.py:397: UserWarning: Warning: converting a masked element to nan.\n",
      "  dv = (np.float64(self.norm.vmax) -\n",
      "C:\\ProgramData\\Anaconda3\\lib\\site-packages\\matplotlib\\image.py:398: UserWarning: Warning: converting a masked element to nan.\n",
      "  np.float64(self.norm.vmin))\n",
      "C:\\ProgramData\\Anaconda3\\lib\\site-packages\\matplotlib\\image.py:405: UserWarning: Warning: converting a masked element to nan.\n",
      "  a_min = np.float64(newmin)\n",
      "C:\\ProgramData\\Anaconda3\\lib\\site-packages\\matplotlib\\image.py:410: UserWarning: Warning: converting a masked element to nan.\n",
      "  a_max = np.float64(newmax)\n",
      "C:\\ProgramData\\Anaconda3\\lib\\site-packages\\matplotlib\\colors.py:933: UserWarning: Warning: converting a masked element to nan.\n",
      "  dtype = np.min_scalar_type(value)\n",
      "C:\\ProgramData\\Anaconda3\\lib\\site-packages\\numpy\\ma\\core.py:713: UserWarning: Warning: converting a masked element to nan.\n",
      "  data = np.array(a, copy=False, subok=subok)\n"
     ]
    },
    {
     "data": {
      "image/png": "[encoded data removed]",
      "text/plain": [
       "<Figure size 432x288 with 1 Axes>"
      ]
     },
     "metadata": {
      "needs_background": "light"
     },
     "output_type": "display_data"
    },
    {
     "name": "stdout",
     "output_type": "stream",
     "text": [
      "Label:  2.0\n"
     ]
    }
   ],
   "source": [
    "plt.imshow(X_test[14], cmap=\"gray\")    # show first number in the dataset\n",
    "plt.show()\n",
    "print('Label: ', y_test[14])"
   ]
  },
  {
   "cell_type": "code",
   "execution_count": 5,
   "metadata": {
    "ExecuteTime": {
     "end_time": "2020-01-22T05:09:20.183680Z",
     "start_time": "2020-01-22T05:09:20.180653Z"
    }
   },
   "outputs": [
    {
     "name": "stdout",
     "output_type": "stream",
     "text": [
      "(45, 24, 24) (15, 24, 24) (45, 3) (15, 3)\n"
     ]
    }
   ],
   "source": [
    "#categorical 원핫 인코딩하는데 사용\n",
    "y_train = to_categorical(y_train)\n",
    "y_test = to_categorical(y_test)\n",
    "print(X_train.shape, X_test.shape, y_train.shape, y_test.shape)"
   ]
  },
  {
   "cell_type": "code",
   "execution_count": 6,
   "metadata": {
    "ExecuteTime": {
     "end_time": "2020-01-22T05:09:20.190626Z",
     "start_time": "2020-01-22T05:09:20.184642Z"
    }
   },
   "outputs": [
    {
     "name": "stdout",
     "output_type": "stream",
     "text": [
      "(45, 24, 24, 1)\n",
      "(15, 24, 24, 1)\n",
      "(45, 3)\n",
      "(15, 3)\n"
     ]
    }
   ],
   "source": [
    "#cnn하려면 4차원으로 변형\n",
    "# 4차원으로 변형, nX_train =  X_train.reshape(-1, 24,24,1)\n",
    "\n",
    "#-1은 전체를 의미, :와 동일, 24*24\n",
    "# 4차원으로 변경\n",
    "X_train =  X_train.reshape(-1, 24, 24, 1)\n",
    "X_test =  X_test.reshape(-1, 24, 24, 1)\n",
    "print(X_train.shape)\n",
    "print(X_test.shape)\n",
    "print(y_train.shape)\n",
    "print(y_test.shape)"
   ]
  },
  {
   "cell_type": "code",
   "execution_count": 7,
   "metadata": {
    "ExecuteTime": {
     "end_time": "2020-01-22T05:09:20.266482Z",
     "start_time": "2020-01-22T05:09:20.191624Z"
    }
   },
   "outputs": [
    {
     "data": {
      "image/png": "[encoded data removed]",
      "text/plain": [
       "<Figure size 432x288 with 1 Axes>"
      ]
     },
     "metadata": {
      "needs_background": "light"
     },
     "output_type": "display_data"
    }
   ],
   "source": [
    "plt.imshow(X_train[2,:,:,0], cmap=\"gray\")  \n",
    "plt.show()"
   ]
  },
  {
   "cell_type": "code",
   "execution_count": 8,
   "metadata": {
    "ExecuteTime": {
     "end_time": "2020-01-22T05:09:20.523461Z",
     "start_time": "2020-01-22T05:09:20.267421Z"
    },
    "scrolled": false
   },
   "outputs": [
    {
     "name": "stdout",
     "output_type": "stream",
     "text": [
      "WARNING:tensorflow:From C:\\ProgramData\\Anaconda3\\lib\\site-packages\\tensorflow_core\\python\\ops\\resource_variable_ops.py:1630: calling BaseResourceVariable.__init__ (from tensorflow.python.ops.resource_variable_ops) with constraint is deprecated and will be removed in a future version.\n",
      "Instructions for updating:\n",
      "If using Keras pass *_constraint arguments to layers.\n",
      "WARNING:tensorflow:From C:\\ProgramData\\Anaconda3\\lib\\site-packages\\keras\\backend\\tensorflow_backend.py:4070: The name tf.nn.max_pool is deprecated. Please use tf.nn.max_pool2d instead.\n",
      "\n"
     ]
    }
   ],
   "source": [
    "#모델 구성하기\n",
    "\n",
    "model = Sequential() \n",
    "model.add(Conv2D(32, kernel_size=(3, 3),input_shape=(24,24,1)))\n",
    "model.add(BatchNormalization())\n",
    "model.add(Activation('relu'))\n",
    "model.add(MaxPooling2D(pool_size=(2, 2)))\n",
    "\n",
    "model.add(Conv2D(64, (3, 3))) \n",
    "model.add(BatchNormalization())\n",
    "model.add(Activation('relu'))\n",
    "model.add(MaxPooling2D(pool_size=(2, 2))) #영상 사이즈를 반으로 줄임\n",
    "\n",
    "\n",
    "model.add(Flatten())\n",
    "\n",
    "model.add(Dense(128))                     #128개의 히든 노드를 생성     \n",
    "model.add(BatchNormalization())\n",
    "model.add(Activation('relu'))\n",
    "\n",
    "model.add(Dense(64))\n",
    "model.add(BatchNormalization())\n",
    "model.add(Dense(3, activation='softmax'))\n",
    "\n",
    "\n",
    "\n",
    "#모델 엮기\n",
    "model.compile(loss='categorical_crossentropy', optimizer = 'adam', metrics=['accuracy'])"
   ]
  },
  {
   "cell_type": "code",
   "execution_count": 9,
   "metadata": {
    "ExecuteTime": {
     "end_time": "2020-01-22T05:09:25.545473Z",
     "start_time": "2020-01-22T05:09:20.524732Z"
    }
   },
   "outputs": [
    {
     "name": "stdout",
     "output_type": "stream",
     "text": [
      "WARNING:tensorflow:From C:\\ProgramData\\Anaconda3\\lib\\site-packages\\keras\\backend\\tensorflow_backend.py:422: The name tf.global_variables is deprecated. Please use tf.compat.v1.global_variables instead.\n",
      "\n"
     ]
    }
   ],
   "source": [
    "#이래야, 2차원 데이터가 나온다.\n",
    "history = model.fit(X_train, y_train, batch_size = 15, epochs = 100, validation_data =(X_test, y_test), verbose = 0)"
   ]
  },
  {
   "cell_type": "code",
   "execution_count": 10,
   "metadata": {
    "ExecuteTime": {
     "end_time": "2020-01-22T05:09:25.687854Z",
     "start_time": "2020-01-22T05:09:25.545473Z"
    }
   },
   "outputs": [
    {
     "data": {
      "image/png": "[encoded data removed]",
      "text/plain": [
       "<Figure size 432x288 with 1 Axes>"
      ]
     },
     "metadata": {
      "needs_background": "light"
     },
     "output_type": "display_data"
    },
    {
     "name": "stdout",
     "output_type": "stream",
     "text": [
      "15/15 [==============================] - 0s 197us/step\n",
      "[6.251943111419678, 0.3333333432674408]\n"
     ]
    }
   ],
   "source": [
    "plt.plot(history.history['accuracy'])\n",
    "plt.plot(history.history['val_accuracy'])\n",
    "plt.legend(['training', 'validation'], loc = 'upper left')\n",
    "plt.show()\n",
    "results = model.evaluate(X_test, y_test)\n",
    "print(results)"
   ]
  },
  {
   "cell_type": "code",
   "execution_count": 11,
   "metadata": {
    "ExecuteTime": {
     "end_time": "2020-01-22T05:09:25.692259Z",
     "start_time": "2020-01-22T05:09:25.688219Z"
    }
   },
   "outputs": [
    {
     "name": "stdout",
     "output_type": "stream",
     "text": [
      "Model: \"sequential_1\"\n",
      "_________________________________________________________________\n",
      "Layer (type)                 Output Shape              Param #   \n",
      "=================================================================\n",
      "conv2d_1 (Conv2D)            (None, 22, 22, 32)        320       \n",
      "_________________________________________________________________\n",
      "batch_normalization_1 (Batch (None, 22, 22, 32)        128       \n",
      "_________________________________________________________________\n",
      "activation_1 (Activation)    (None, 22, 22, 32)        0         \n",
      "_________________________________________________________________\n",
      "max_pooling2d_1 (MaxPooling2 (None, 11, 11, 32)        0         \n",
      "_________________________________________________________________\n",
      "conv2d_2 (Conv2D)            (None, 9, 9, 64)          18496     \n",
      "_________________________________________________________________\n",
      "batch_normalization_2 (Batch (None, 9, 9, 64)          256       \n",
      "_________________________________________________________________\n",
      "activation_2 (Activation)    (None, 9, 9, 64)          0         \n",
      "_________________________________________________________________\n",
      "max_pooling2d_2 (MaxPooling2 (None, 4, 4, 64)          0         \n",
      "_________________________________________________________________\n",
      "flatten_1 (Flatten)          (None, 1024)              0         \n",
      "_________________________________________________________________\n",
      "dense_1 (Dense)              (None, 128)               131200    \n",
      "_________________________________________________________________\n",
      "batch_normalization_3 (Batch (None, 128)               512       \n",
      "_________________________________________________________________\n",
      "activation_3 (Activation)    (None, 128)               0         \n",
      "_________________________________________________________________\n",
      "dense_2 (Dense)              (None, 64)                8256      \n",
      "_________________________________________________________________\n",
      "batch_normalization_4 (Batch (None, 64)                256       \n",
      "_________________________________________________________________\n",
      "dense_3 (Dense)              (None, 3)                 195       \n",
      "=================================================================\n",
      "Total params: 159,619\n",
      "Trainable params: 159,043\n",
      "Non-trainable params: 576\n",
      "_________________________________________________________________\n"
     ]
    }
   ],
   "source": [
    "model.summary()\n",
    "#3*3 짜리가 32개\n",
    "#cnn에서는 전체 필터의 모양을 봐야한다. 하나하나가 의미가 없다.\n",
    "#22*22가 나온것은 가장 외곽에 있는것을 무시해서 그렇다. 3*3을 적용할 수 없어 계산이 안된다.\n",
    "#실계산요소 :\n",
    "#prediction : 그냥 output을 내는것, 예측의 의미가 아니다."
   ]
  },
  {
   "cell_type": "code",
   "execution_count": 12,
   "metadata": {
    "ExecuteTime": {
     "end_time": "2020-01-22T05:09:25.725178Z",
     "start_time": "2020-01-22T05:09:25.694201Z"
    }
   },
   "outputs": [
    {
     "name": "stdout",
     "output_type": "stream",
     "text": [
      "conv2d_1\n",
      "batch_normalization_1\n",
      "activation_1\n",
      "max_pooling2d_1\n",
      "conv2d_2\n",
      "batch_normalization_2\n",
      "activation_2\n",
      "max_pooling2d_2\n",
      "flatten_1\n",
      "dense_1\n",
      "batch_normalization_3\n",
      "activation_3\n",
      "dense_2\n",
      "batch_normalization_4\n",
      "dense_3\n",
      "[array([[[[-0.06505532, -0.05709056,  0.06089919, -0.04066324,\n",
      "           0.02002005, -0.08332739,  0.01278744, -0.06862089,\n",
      "          -0.06915525,  0.06972224,  0.00248428,  0.07756526,\n",
      "           0.13317034,  0.132599  , -0.11052707,  0.10066359,\n",
      "           0.03118583, -0.10396164,  0.14493808,  0.09531815,\n",
      "           0.10620107,  0.04741548,  0.00837123, -0.00206415,\n",
      "           0.06196466,  0.06584848, -0.0280572 ,  0.04431516,\n",
      "          -0.12688695,  0.11773142, -0.03310693,  0.13773666]],\n",
      "\n",
      "        [[ 0.118054  ,  0.09934337, -0.03030242,  0.02574492,\n",
      "          -0.1250964 , -0.0780546 , -0.0254576 , -0.12818925,\n",
      "           0.07946027,  0.08306459,  0.07225259, -0.05158544,\n",
      "           0.07663378,  0.05220746,  0.03941649, -0.13349082,\n",
      "          -0.08760996,  0.06050465, -0.02072292, -0.05522349,\n",
      "           0.07339805,  0.06622027,  0.01109215, -0.10721474,\n",
      "          -0.1202671 , -0.09257144,  0.02093532,  0.10584114,\n",
      "           0.05320608, -0.1233561 , -0.08714855, -0.13661155]],\n",
      "\n",
      "        [[-0.03278278,  0.1244863 ,  0.05965079,  0.08100937,\n",
      "          -0.13033444, -0.10130797, -0.03192668,  0.10962892,\n",
      "          -0.01657816,  0.12259064, -0.11026054,  0.08496033,\n",
      "          -0.00781235,  0.13453346, -0.08405786, -0.0137053 ,\n",
      "           0.05264814,  0.11024784, -0.10847045, -0.04176049,\n",
      "           0.0185214 , -0.10145181,  0.12908189, -0.07989735,\n",
      "          -0.13404557, -0.02936902, -0.02187338, -0.05911699,\n",
      "          -0.03510534, -0.03115444, -0.06601658, -0.03426034]]],\n",
      "\n",
      "\n",
      "       [[[-0.05689545, -0.03248469,  0.10228588,  0.08831152,\n",
      "          -0.06464503,  0.14019215,  0.08737359, -0.13245441,\n",
      "           0.0238662 , -0.13253428, -0.04986314,  0.12033606,\n",
      "          -0.07301535,  0.07039935,  0.02479708, -0.11875015,\n",
      "          -0.01517857,  0.06573706, -0.07414361, -0.04785274,\n",
      "          -0.13306718,  0.00069844,  0.09150949, -0.10617898,\n",
      "          -0.11160559, -0.04083835,  0.03955793, -0.14522167,\n",
      "           0.0855054 , -0.04866123,  0.03930196,  0.01318495]],\n",
      "\n",
      "        [[-0.00058945, -0.05910932, -0.04051004, -0.10023544,\n",
      "           0.1113338 , -0.13915552,  0.05999988, -0.07762828,\n",
      "          -0.10565013,  0.09097751, -0.06333651,  0.10164768,\n",
      "          -0.12842612, -0.08225998,  0.12173766,  0.05410865,\n",
      "          -0.01728958, -0.04169616, -0.02695005,  0.11853389,\n",
      "          -0.11511963, -0.02536659,  0.03647502,  0.09511253,\n",
      "          -0.04153006,  0.03994488, -0.01725251,  0.00411977,\n",
      "          -0.05966138, -0.00481572,  0.05742813, -0.08722294]],\n",
      "\n",
      "        [[ 0.12747079, -0.11062048,  0.08293531,  0.09503183,\n",
      "           0.0707736 , -0.07022973, -0.05674321, -0.10175818,\n",
      "          -0.03649894,  0.12641248,  0.05442306, -0.12682459,\n",
      "           0.01681947,  0.01264644,  0.00174973,  0.10832942,\n",
      "          -0.04591609,  0.02929166,  0.10262349,  0.1258105 ,\n",
      "          -0.08735861,  0.13087001, -0.02594217, -0.10308593,\n",
      "          -0.13653941, -0.02190963, -0.03169527,  0.03368324,\n",
      "           0.07317796,  0.04757931, -0.0123491 ,  0.04504203]]],\n",
      "\n",
      "\n",
      "       [[[ 0.06606966, -0.10077244, -0.13222213, -0.0388101 ,\n",
      "          -0.10125743,  0.0797345 , -0.06047072, -0.00240193,\n",
      "           0.03694724, -0.00998793,  0.07031189,  0.10399185,\n",
      "          -0.12017482,  0.07441014, -0.00550995, -0.11036452,\n",
      "           0.01729173, -0.03835751,  0.06079384, -0.11909527,\n",
      "           0.02227311,  0.12520285,  0.11278026,  0.0867172 ,\n",
      "           0.13280675,  0.00272234,  0.12225486, -0.03971353,\n",
      "          -0.06426713,  0.08848565, -0.0084544 , -0.13255927]],\n",
      "\n",
      "        [[ 0.10964059,  0.05336419, -0.14443025, -0.09382857,\n",
      "          -0.07156878, -0.08774805, -0.00202636, -0.07894763,\n",
      "           0.01094488, -0.11199131, -0.05813515, -0.1402122 ,\n",
      "           0.04764091,  0.04350849,  0.02558898,  0.13617048,\n",
      "          -0.1182157 , -0.06587122,  0.01619076, -0.12640275,\n",
      "          -0.06952865,  0.00885999, -0.06884929, -0.11726153,\n",
      "           0.0402025 , -0.01342099,  0.08461121, -0.05323938,\n",
      "          -0.00606744,  0.06705139, -0.04591025,  0.0549012 ]],\n",
      "\n",
      "        [[ 0.12467343, -0.01614687, -0.09328104,  0.02049255,\n",
      "           0.13824996,  0.07706028,  0.08885274,  0.04160408,\n",
      "          -0.05787898,  0.03116955,  0.04349172,  0.11105192,\n",
      "          -0.01060127,  0.0136139 ,  0.12180555,  0.00539442,\n",
      "           0.01296347,  0.01081856,  0.13366315,  0.08362076,\n",
      "          -0.02807861,  0.09403969, -0.01973383,  0.09169984,\n",
      "           0.07094771,  0.03361535,  0.09521966,  0.02017227,\n",
      "          -0.11885136,  0.04809571,  0.07319217, -0.00173321]]]],\n",
      "      dtype=float32), array([-3.3603370e-04,  3.8240204e-04, -1.2654438e-05,  6.8606583e-05,\n",
      "        3.3301272e-04,  2.6205418e-04, -2.2988426e-04,  1.6028501e-04,\n",
      "       -1.6888886e-03,  3.8342241e-05, -8.6531905e-04, -2.1964531e-04,\n",
      "        1.1438571e-04,  3.5339314e-04,  2.7417552e-04, -4.5215432e-04,\n",
      "        2.4289926e-04, -7.0498769e-05, -2.3883610e-04, -8.8329645e-05,\n",
      "       -7.1776936e-05,  3.6822856e-04, -2.4523219e-04, -7.0318616e-05,\n",
      "        1.7289260e-04,  1.6508848e-04,  2.8824966e-04,  4.2124128e-04,\n",
      "        2.0994595e-03,  6.6689879e-04,  1.6812913e-04, -1.5279250e-03],\n",
      "      dtype=float32)]\n",
      "(3, 3, 1, 32)\n",
      "(32,)\n",
      "[[-0.06505532  0.118054   -0.03278278]\n",
      " [-0.05689545 -0.00058945  0.12747079]\n",
      " [ 0.06606966  0.10964059  0.12467343]]\n"
     ]
    }
   ],
   "source": [
    "#각각의 레이어의 이름\n",
    "for l in model.layers:\n",
    "    print(l.name)\n",
    "    \n",
    "w = model.layers[0].get_weights()\n",
    "\n",
    "print(w)\n",
    "print(w[0].shape) #필터들의 정보 : 3*3크기, 바이어스 1개, 필터 32개, 총 바이어스의 수 = 필터수 * 각 채널마다 존재하는 바이어스 수\n",
    "print(w[1].shape) #필터의 바이어스 편향치 얘를 더해서 출력\n",
    "print(w[0][:,:,0,0]) #2 인덱스에 있는것은 거짓차원\n",
    "\n",
    "\n",
    "#나중에 보여줄때 복원에 필요하기때문에, 계산은 필요 없어도, 파라미터가 존재한다. batch 같은애들은 계산에 필요한 파라미터는 아니다."
   ]
  },
  {
   "cell_type": "code",
   "execution_count": 13,
   "metadata": {
    "ExecuteTime": {
     "end_time": "2020-01-22T05:09:25.730166Z",
     "start_time": "2020-01-22T05:09:25.727114Z"
    }
   },
   "outputs": [
    {
     "data": {
      "text/plain": [
       "<tf.Tensor 'conv2d_1/BiasAdd:0' shape=(?, 22, 22, 32) dtype=float32>"
      ]
     },
     "execution_count": 13,
     "metadata": {},
     "output_type": "execute_result"
    }
   ],
   "source": [
    "#위에 있는건 학습 안시키고, 아래에 있는것 가지고만 학습시킨다.\n",
    "#특정계층만 안 시킬것이면, False로 두면된다.\n",
    "model.layers[0].output\n",
    "#tensor를 numpy와 똑같은 다차원 배열이라 생각하자\n",
    "#tensorflow\n",
    "\n",
    "#print(w[0][0]) #: 0번째 필터의 바이어스"
   ]
  },
  {
   "cell_type": "code",
   "execution_count": 14,
   "metadata": {
    "ExecuteTime": {
     "end_time": "2020-01-22T05:09:26.030772Z",
     "start_time": "2020-01-22T05:09:25.731114Z"
    }
   },
   "outputs": [
    {
     "name": "stdout",
     "output_type": "stream",
     "text": [
      "(15, 22, 22, 32)\n"
     ]
    },
    {
     "name": "stderr",
     "output_type": "stream",
     "text": [
      "C:\\ProgramData\\Anaconda3\\lib\\site-packages\\matplotlib\\image.py:397: UserWarning: Warning: converting a masked element to nan.\n",
      "  dv = (np.float64(self.norm.vmax) -\n",
      "C:\\ProgramData\\Anaconda3\\lib\\site-packages\\matplotlib\\image.py:398: UserWarning: Warning: converting a masked element to nan.\n",
      "  np.float64(self.norm.vmin))\n",
      "C:\\ProgramData\\Anaconda3\\lib\\site-packages\\matplotlib\\image.py:405: UserWarning: Warning: converting a masked element to nan.\n",
      "  a_min = np.float64(newmin)\n",
      "C:\\ProgramData\\Anaconda3\\lib\\site-packages\\matplotlib\\image.py:410: UserWarning: Warning: converting a masked element to nan.\n",
      "  a_max = np.float64(newmax)\n",
      "C:\\ProgramData\\Anaconda3\\lib\\site-packages\\matplotlib\\colors.py:933: UserWarning: Warning: converting a masked element to nan.\n",
      "  dtype = np.min_scalar_type(value)\n",
      "C:\\ProgramData\\Anaconda3\\lib\\site-packages\\numpy\\ma\\core.py:713: UserWarning: Warning: converting a masked element to nan.\n",
      "  data = np.array(a, copy=False, subok=subok)\n"
     ]
    },
    {
     "data": {
      "image/png": "[encoded data removed]",
      "text/plain": [
       "<Figure size 432x288 with 1 Axes>"
      ]
     },
     "metadata": {
      "needs_background": "light"
     },
     "output_type": "display_data"
    },
    {
     "data": {
      "image/png": "[encoded data removed]",
      "text/plain": [
       "<Figure size 432x288 with 1 Axes>"
      ]
     },
     "metadata": {
      "needs_background": "light"
     },
     "output_type": "display_data"
    },
    {
     "data": {
      "image/png": "[encoded data removed]",
      "text/plain": [
       "<Figure size 432x288 with 1 Axes>"
      ]
     },
     "metadata": {
      "needs_background": "light"
     },
     "output_type": "display_data"
    },
    {
     "name": "stdout",
     "output_type": "stream",
     "text": [
      "[[[-0.05689545 -0.03248469  0.10228588  0.08831152 -0.06464503\n",
      "    0.14019215  0.08737359 -0.13245441  0.0238662  -0.13253428\n",
      "   -0.04986314  0.12033606 -0.07301535  0.07039935  0.02479708\n",
      "   -0.11875015 -0.01517857  0.06573706 -0.07414361 -0.04785274\n",
      "   -0.13306718  0.00069844  0.09150949 -0.10617898 -0.11160559\n",
      "   -0.04083835  0.03955793 -0.14522167  0.0855054  -0.04866123\n",
      "    0.03930196  0.01318495]]\n",
      "\n",
      " [[-0.00058945 -0.05910932 -0.04051004 -0.10023544  0.1113338\n",
      "   -0.13915552  0.05999988 -0.07762828 -0.10565013  0.09097751\n",
      "   -0.06333651  0.10164768 -0.12842612 -0.08225998  0.12173766\n",
      "    0.05410865 -0.01728958 -0.04169616 -0.02695005  0.11853389\n",
      "   -0.11511963 -0.02536659  0.03647502  0.09511253 -0.04153006\n",
      "    0.03994488 -0.01725251  0.00411977 -0.05966138 -0.00481572\n",
      "    0.05742813 -0.08722294]]\n",
      "\n",
      " [[ 0.12747079 -0.11062048  0.08293531  0.09503183  0.0707736\n",
      "   -0.07022973 -0.05674321 -0.10175818 -0.03649894  0.12641248\n",
      "    0.05442306 -0.12682459  0.01681947  0.01264644  0.00174973\n",
      "    0.10832942 -0.04591609  0.02929166  0.10262349  0.1258105\n",
      "   -0.08735861  0.13087001 -0.02594217 -0.10308593 -0.13653941\n",
      "   -0.02190963 -0.03169527  0.03368324  0.07317796  0.04757931\n",
      "   -0.0123491   0.04504203]]]\n"
     ]
    },
    {
     "data": {
      "text/plain": [
       "<function matplotlib.pyplot.imshow(X, cmap=None, norm=None, aspect=None, interpolation=None, alpha=None, vmin=None, vmax=None, origin=None, extent=None, shape=<deprecated parameter>, filternorm=1, filterrad=4.0, imlim=<deprecated parameter>, resample=None, url=None, *, data=None, **kwargs)>"
      ]
     },
     "execution_count": 14,
     "metadata": {},
     "output_type": "execute_result"
    }
   ],
   "source": [
    "from keras.models import Model\n",
    "#텐서는 그릇같은것, 구조가 있는 그릇\n",
    "#CNN은 특징추출기와 분류기로 구성되어있다.\n",
    "#그릇이 21*21*1 짜리\n",
    "\n",
    "my_layer_model = Model(inputs = model.input,\n",
    "                      outputs=model.layers[0].output)\n",
    "\n",
    "#다 행렬이다. 학습을 하는게 아니라, 흘려보내서, 최종값으로 계산을 하는것\n",
    "output = my_layer_model.predict(X_test)\n",
    "\n",
    "#이게 위의 None, 22, 22, 32에 해당하는것, 다만, tensor은 늘 none이다. padding을 valid로 해서, 줄었다.\n",
    "#15개의 이미지에 대해서 출력\n",
    "\n",
    "\n",
    "print(output.shape)\n",
    "\n",
    "#첫번째 즉, 0인덱스의 테스트 이미지의 n+1번째(인덱스 n) 필터를 적용했을때의 출력값\n",
    "n = 5\n",
    "plt.imshow(output[0, :, :, n], cmap = \"gray\")\n",
    "\n",
    "\n",
    "\n",
    "#1인덱스 이미지\n",
    "ifilter = 5\n",
    "iimg = 1\n",
    "#5인덱스 필터\n",
    "#출력 = 0번째 이미지*(0번째 필터+b)\n",
    "\n",
    "\n",
    "#1번 원본이미지\n",
    "plt.imshow(X_test[iimg, :, :, 0], cmap = \"gray\")\n",
    "plt.show()\n",
    "\n",
    "#filter\n",
    "w = model.layers[0].get_weights()\n",
    "w = w[0]\n",
    "f = w[:,:,0,ifilter]\n",
    "plt.imshow(f, cmap=\"gray\")\n",
    "plt.show()\n",
    "\n",
    "#출력\n",
    "plt.imshow(output[iimg, :, :, ifilter], cmap = \"gray\")\n",
    "plt.show()\n",
    "\n",
    "print(w[1])\n",
    "#flat 된 결과물\n",
    "plt.imshow"
   ]
  },
  {
   "cell_type": "code",
   "execution_count": 15,
   "metadata": {
    "ExecuteTime": {
     "end_time": "2020-01-22T05:09:26.159428Z",
     "start_time": "2020-01-22T05:09:26.031769Z"
    },
    "scrolled": true
   },
   "outputs": [
    {
     "name": "stdout",
     "output_type": "stream",
     "text": [
      "(15, 1024)\n",
      "(15, 3)\n",
      "(15, 3)\n",
      "[1 1 1 1 1 1 1 1 1 1 1 1 1 1 1]\n",
      "[0 0 0 0 0 1 1 1 1 1 2 2 2 2 2]\n",
      "0.3333333333333333\n"
     ]
    }
   ],
   "source": [
    "#flatten, predict는 forward 함수다, 예측함수가 아니다.\n",
    "#15개 샘플에 대해서\n",
    "my_layer_model = Model(inputs = model.input,\n",
    "                      outputs = model.get_layer(\"flatten_1\").output)\n",
    "\n",
    "output = my_layer_model.predict(X_test)\n",
    "#print(output), 4*4짜리가 64개 있던것을 flatten으로 펴서 1024가 나온다.\n",
    "print(output.shape)\n",
    "\n",
    "#dense 원일 확률, 삼각형일 확률, 사각형일 확률\n",
    "#15개 샘플에 대해서 출력값 3개\n",
    "my_layer_model = Model(inputs = model.input,\n",
    "                      outputs = model.get_layer(\"dense_3\").output)\n",
    "\n",
    "output = my_layer_model.predict(X_test)\n",
    "print(output.shape)\n",
    "\n",
    "#첫번째 인풋에 대한, 최종 출력값 3개, 모든 행을 다 더하면, 1, 원일 확률 + 삼각형일 확률 + 사각형일 확률\n",
    "#argmax를 사용한다. 그러면, 예측 레이블 값이 나온다.\n",
    "\n",
    "print(output.shape)\n",
    "#print(output)\n",
    "np.argmax(output, axis=1)\n",
    "\n",
    "#예측값\n",
    "P = np.argmax(output, axis = 1)\n",
    "\n",
    "#실제값\n",
    "T = np.argmax(y_test, axis = 1)\n",
    "\n",
    "print(P)\n",
    "print(T)\n",
    "\n",
    "#accuracy\n",
    "print(np.mean((P==T)*1))\n",
    "#print((P==T)*1)\n",
    "#print(sum(P==T)1)\n",
    "#print(sum(P==T)*1/len(P))"
   ]
  }
 ],
 "metadata": {
  "kernelspec": {
   "display_name": "Python 3",
   "language": "python",
   "name": "python3"
  },
  "language_info": {
   "codemirror_mode": {
    "name": "ipython",
    "version": 3
   },
   "file_extension": ".py",
   "mimetype": "text/x-python",
   "name": "python",
   "nbconvert_exporter": "python",
   "pygments_lexer": "ipython3",
   "version": "3.7.4"
  },
  "varInspector": {
   "cols": {
    "lenName": 16,
    "lenType": 16,
    "lenVar": 40
   },
   "kernels_config": {
    "python": {
     "delete_cmd_postfix": "",
     "delete_cmd_prefix": "del ",
     "library": "var_list.py",
     "varRefreshCmd": "print(var_dic_list())"
    },
    "r": {
     "delete_cmd_postfix": ") ",
     "delete_cmd_prefix": "rm(",
     "library": "var_list.r",
     "varRefreshCmd": "cat(var_dic_list()) "
    }
   },
   "types_to_exclude": [
    "module",
    "function",
    "builtin_function_or_method",
    "instance",
    "_Feature"
   ],
   "window_display": false
  }
 },
 "nbformat": 4,
 "nbformat_minor": 2
}
