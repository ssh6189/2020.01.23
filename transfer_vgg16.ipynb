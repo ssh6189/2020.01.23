{
 "cells": [
  {
   "cell_type": "code",
   "execution_count": 2,
   "metadata": {
    "ExecuteTime": {
     "end_time": "2020-01-23T06:42:21.791919Z",
     "start_time": "2020-01-23T06:42:21.697962Z"
    }
   },
   "outputs": [],
   "source": [
    "import numpy as np\n",
    "import matplotlib.pyplot as plt\n",
    "%matplotlib inline\n",
    "import keras\n",
    "from keras.preprocessing.image import ImageDataGenerator, load_img"
   ]
  },
  {
   "cell_type": "code",
   "execution_count": 3,
   "metadata": {
    "ExecuteTime": {
     "end_time": "2020-01-23T06:42:23.373356Z",
     "start_time": "2020-01-23T06:42:23.369366Z"
    }
   },
   "outputs": [],
   "source": [
    "train_dir = './clean-dataset/train'\n",
    "validation_dir = './clean-dataset/validation'\n",
    "image_size = 224"
   ]
  },
  {
   "cell_type": "markdown",
   "metadata": {},
   "source": [
    "## Experiment 1: Freezing all layers - Same as Transfer Learning\n",
    "Create the model"
   ]
  },
  {
   "cell_type": "code",
   "execution_count": 4,
   "metadata": {
    "ExecuteTime": {
     "end_time": "2020-01-23T06:42:25.563599Z",
     "start_time": "2020-01-23T06:42:25.095902Z"
    }
   },
   "outputs": [
    {
     "name": "stdout",
     "output_type": "stream",
     "text": [
      "WARNING:tensorflow:From C:\\ProgramData\\Anaconda3\\lib\\site-packages\\tensorflow_core\\python\\ops\\resource_variable_ops.py:1630: calling BaseResourceVariable.__init__ (from tensorflow.python.ops.resource_variable_ops) with constraint is deprecated and will be removed in a future version.\n",
      "Instructions for updating:\n",
      "If using Keras pass *_constraint arguments to layers.\n",
      "WARNING:tensorflow:From C:\\ProgramData\\Anaconda3\\lib\\site-packages\\keras\\backend\\tensorflow_backend.py:4070: The name tf.nn.max_pool is deprecated. Please use tf.nn.max_pool2d instead.\n",
      "\n",
      "<keras.engine.input_layer.InputLayer object at 0x0000027C2E170A48> False\n",
      "<keras.layers.convolutional.Conv2D object at 0x0000027C2ABB1908> False\n",
      "<keras.layers.convolutional.Conv2D object at 0x0000027C219E8A48> False\n",
      "<keras.layers.pooling.MaxPooling2D object at 0x0000027C2E1C43C8> False\n",
      "<keras.layers.convolutional.Conv2D object at 0x0000027C2E1D2A88> False\n",
      "<keras.layers.convolutional.Conv2D object at 0x0000027C2E1D52C8> False\n",
      "<keras.layers.pooling.MaxPooling2D object at 0x0000027C2E1E3208> False\n",
      "<keras.layers.convolutional.Conv2D object at 0x0000027C2E1EDB88> False\n",
      "<keras.layers.convolutional.Conv2D object at 0x0000027C2E1F0148> False\n",
      "<keras.layers.convolutional.Conv2D object at 0x0000027C2E1F7F88> False\n",
      "<keras.layers.pooling.MaxPooling2D object at 0x0000027C2E20AAC8> False\n",
      "<keras.layers.convolutional.Conv2D object at 0x0000027C2E2163C8> False\n",
      "<keras.layers.convolutional.Conv2D object at 0x0000027C2E216988> False\n",
      "<keras.layers.convolutional.Conv2D object at 0x0000027C2E225988> False\n",
      "<keras.layers.pooling.MaxPooling2D object at 0x0000027C2E2344C8> False\n",
      "<keras.layers.convolutional.Conv2D object at 0x0000027C2E1DECC8> False\n",
      "<keras.layers.convolutional.Conv2D object at 0x0000027C2E23F488> False\n",
      "<keras.layers.convolutional.Conv2D object at 0x0000027C2E24B508> False\n",
      "<keras.layers.pooling.MaxPooling2D object at 0x0000027C2E25C108> False\n",
      "Model: \"sequential_1\"\n",
      "_________________________________________________________________\n",
      "Layer (type)                 Output Shape              Param #   \n",
      "=================================================================\n",
      "vgg16 (Model)                (None, 7, 7, 512)         14714688  \n",
      "_________________________________________________________________\n",
      "flatten_1 (Flatten)          (None, 25088)             0         \n",
      "_________________________________________________________________\n",
      "dense_1 (Dense)              (None, 1024)              25691136  \n",
      "_________________________________________________________________\n",
      "dropout_1 (Dropout)          (None, 1024)              0         \n",
      "_________________________________________________________________\n",
      "dense_2 (Dense)              (None, 3)                 3075      \n",
      "=================================================================\n",
      "Total params: 40,408,899\n",
      "Trainable params: 25,694,211\n",
      "Non-trainable params: 14,714,688\n",
      "_________________________________________________________________\n"
     ]
    }
   ],
   "source": [
    "#레이어를 얼려서, 전이학습과 똑같이 한다.\n",
    "from keras.applications import VGG16\n",
    "\n",
    "#Load the VGG model\n",
    "vgg_conv = VGG16(weights='imagenet', include_top=False, input_shape=(image_size, image_size, 3))\n",
    "\n",
    "#학습이 일어나지 않도록 얼린다. 만약 하지 않으면, 인식률은 좋아지겠지만, 오래걸린다.\n",
    "#모든 레이어에 대하여, False로 둔다.\n",
    "\n",
    "#나머지부분은 얼리고, 마지막 4개에 대해서만 학습을 시키겠다.\n",
    "#for layer in vgg_conv.layers[:-4]:\n",
    "#이런것을 파인튜닝이라고 한다.\n",
    "#    layer.trainable = False\n",
    "    \n",
    "# Freeze all the layers\n",
    "for layer in vgg_conv.layers[:]:\n",
    "    layer.trainable = False\n",
    "\n",
    "#레이어 출력\n",
    "# Check the trainable status of the individual layers\n",
    "for layer in vgg_conv.layers:\n",
    "    print(layer, layer.trainable)\n",
    "\n",
    "\n",
    "from keras import models\n",
    "from keras import layers\n",
    "from keras import optimizers\n",
    "\n",
    "# Create the model\n",
    "model = models.Sequential()\n",
    "\n",
    "# Add the vgg convolutional base model\n",
    "model.add(vgg_conv)\n",
    "\n",
    "#새로운 레이어만 추가적용\n",
    "# Add new layers\n",
    "model.add(layers.Flatten())\n",
    "model.add(layers.Dense(1024, activation='relu'))\n",
    "model.add(layers.Dropout(0.5))\n",
    "model.add(layers.Dense(3, activation='softmax'))\n",
    "\n",
    "# Show a summary of the model. Check the number of trainable parameters\n",
    "model.summary()"
   ]
  },
  {
   "cell_type": "markdown",
   "metadata": {},
   "source": [
    "## Experiment 1\n",
    "Train the model"
   ]
  },
  {
   "cell_type": "code",
   "execution_count": 8,
   "metadata": {
    "ExecuteTime": {
     "end_time": "2020-01-23T06:53:28.027878Z",
     "start_time": "2020-01-23T06:53:27.745247Z"
    }
   },
   "outputs": [
    {
     "name": "stdout",
     "output_type": "stream",
     "text": [
      "Found 600 images belonging to 3 classes.\n",
      "Found 150 images belonging to 3 classes.\n",
      "Model: \"sequential_1\"\n",
      "_________________________________________________________________\n",
      "Layer (type)                 Output Shape              Param #   \n",
      "=================================================================\n",
      "vgg16 (Model)                (None, 7, 7, 512)         14714688  \n",
      "_________________________________________________________________\n",
      "flatten_1 (Flatten)          (None, 25088)             0         \n",
      "_________________________________________________________________\n",
      "dense_1 (Dense)              (None, 1024)              25691136  \n",
      "_________________________________________________________________\n",
      "dropout_1 (Dropout)          (None, 1024)              0         \n",
      "_________________________________________________________________\n",
      "dense_2 (Dense)              (None, 3)                 3075      \n",
      "=================================================================\n",
      "Total params: 40,408,899\n",
      "Trainable params: 25,694,211\n",
      "Non-trainable params: 14,714,688\n",
      "_________________________________________________________________\n"
     ]
    }
   ],
   "source": [
    "# No Data augmentation \n",
    "train_datagen = ImageDataGenerator(rescale=1./255)\n",
    "validation_datagen = ImageDataGenerator(rescale=1./255)\n",
    "\n",
    "# Change the batchsize according to your system RAM\n",
    "#100으로 하면 컴퓨터 터진다.\n",
    "#결과에 크기는 많이 주지 않고, 연산속도에 영향을 준다.\n",
    "train_batchsize = 20\n",
    "val_batchsize = 10\n",
    "\n",
    "# Data Generator for Training data\n",
    "train_generator = train_datagen.flow_from_directory(\n",
    "        train_dir,\n",
    "        target_size=(image_size, image_size),\n",
    "        batch_size=train_batchsize,\n",
    "        class_mode='categorical')\n",
    "\n",
    "# Data Generator for Validation data\n",
    "validation_generator = validation_datagen.flow_from_directory(\n",
    "        validation_dir,\n",
    "        target_size=(image_size, image_size),\n",
    "        batch_size=val_batchsize,\n",
    "        class_mode='categorical',\n",
    "        shuffle=False)\n",
    "\n",
    "# Compile the model\n",
    "model.compile(loss='categorical_crossentropy',\n",
    "              optimizer=\"adam\",\n",
    "              metrics=['accuracy'])\n",
    "\n",
    "model.summary()"
   ]
  },
  {
   "cell_type": "code",
   "execution_count": 10,
   "metadata": {
    "ExecuteTime": {
     "end_time": "2020-01-23T07:50:30.078414Z",
     "start_time": "2020-01-23T07:00:04.545546Z"
    }
   },
   "outputs": [
    {
     "name": "stdout",
     "output_type": "stream",
     "text": [
      "Epoch 1/50\n",
      "30/30 [==============================] - 58s 2s/step - loss: 0.1544 - accuracy: 0.9450 - val_loss: 5.9753e-05 - val_accuracy: 0.8533\n",
      "Epoch 2/50\n",
      "30/30 [==============================] - 62s 2s/step - loss: 0.1783 - accuracy: 0.9417 - val_loss: 0.7785 - val_accuracy: 0.8200\n",
      "Epoch 3/50\n",
      "30/30 [==============================] - 62s 2s/step - loss: 0.3081 - accuracy: 0.9317 - val_loss: 1.6235e-05 - val_accuracy: 0.7867\n",
      "Epoch 4/50\n",
      "30/30 [==============================] - 60s 2s/step - loss: 0.2510 - accuracy: 0.9383 - val_loss: 0.3169 - val_accuracy: 0.8467\n",
      "Epoch 5/50\n",
      "30/30 [==============================] - 60s 2s/step - loss: 0.0957 - accuracy: 0.9617 - val_loss: 0.0144 - val_accuracy: 0.8800\n",
      "Epoch 6/50\n",
      "30/30 [==============================] - 60s 2s/step - loss: 0.1346 - accuracy: 0.9617 - val_loss: 4.3105e-04 - val_accuracy: 0.9067\n",
      "Epoch 7/50\n",
      "30/30 [==============================] - 60s 2s/step - loss: 0.0210 - accuracy: 0.9900 - val_loss: 2.9870e-05 - val_accuracy: 0.8800\n",
      "Epoch 8/50\n",
      "30/30 [==============================] - 60s 2s/step - loss: 0.0212 - accuracy: 0.9950 - val_loss: 0.8778 - val_accuracy: 0.8000\n",
      "Epoch 9/50\n",
      "30/30 [==============================] - 60s 2s/step - loss: 0.0338 - accuracy: 0.9883 - val_loss: 0.0837 - val_accuracy: 0.8533\n",
      "Epoch 10/50\n",
      "30/30 [==============================] - 60s 2s/step - loss: 0.0229 - accuracy: 0.9950 - val_loss: 0.0764 - val_accuracy: 0.8733\n",
      "Epoch 11/50\n",
      "30/30 [==============================] - 61s 2s/step - loss: 0.0158 - accuracy: 0.9950 - val_loss: 0.0139 - val_accuracy: 0.8800\n",
      "Epoch 12/50\n",
      "30/30 [==============================] - 60s 2s/step - loss: 0.0092 - accuracy: 0.9967 - val_loss: 4.1236e-04 - val_accuracy: 0.8933\n",
      "Epoch 13/50\n",
      "30/30 [==============================] - 60s 2s/step - loss: 0.0073 - accuracy: 0.9983 - val_loss: 4.4934e-04 - val_accuracy: 0.9000\n",
      "Epoch 14/50\n",
      "30/30 [==============================] - 60s 2s/step - loss: 0.0057 - accuracy: 0.9983 - val_loss: 4.4794e-04 - val_accuracy: 0.9000\n",
      "Epoch 15/50\n",
      "30/30 [==============================] - 60s 2s/step - loss: 0.0163 - accuracy: 0.9950 - val_loss: 1.0860e-05 - val_accuracy: 0.9200\n",
      "Epoch 16/50\n",
      "30/30 [==============================] - 60s 2s/step - loss: 0.0149 - accuracy: 0.9950 - val_loss: 0.7855 - val_accuracy: 0.8667\n",
      "Epoch 17/50\n",
      "30/30 [==============================] - 60s 2s/step - loss: 0.0190 - accuracy: 0.9983 - val_loss: 0.0415 - val_accuracy: 0.8800\n",
      "Epoch 18/50\n",
      "30/30 [==============================] - 60s 2s/step - loss: 0.0113 - accuracy: 0.9950 - val_loss: 0.1373 - val_accuracy: 0.8867\n",
      "Epoch 19/50\n",
      "30/30 [==============================] - 60s 2s/step - loss: 0.0081 - accuracy: 0.9967 - val_loss: 0.0015 - val_accuracy: 0.9067\n",
      "Epoch 20/50\n",
      "30/30 [==============================] - 60s 2s/step - loss: 0.0251 - accuracy: 0.9933 - val_loss: 2.3399e-05 - val_accuracy: 0.9133\n",
      "Epoch 21/50\n",
      "30/30 [==============================] - 60s 2s/step - loss: 0.0037 - accuracy: 1.0000 - val_loss: 0.1542 - val_accuracy: 0.9000\n",
      "Epoch 22/50\n",
      "30/30 [==============================] - 60s 2s/step - loss: 0.0305 - accuracy: 0.9883 - val_loss: 5.0637e-04 - val_accuracy: 0.9200\n",
      "Epoch 23/50\n",
      "30/30 [==============================] - 60s 2s/step - loss: 0.0736 - accuracy: 0.9783 - val_loss: 8.2254e-07 - val_accuracy: 0.9000\n",
      "Epoch 24/50\n",
      "30/30 [==============================] - 60s 2s/step - loss: 0.0422 - accuracy: 0.9817 - val_loss: 3.7867 - val_accuracy: 0.7800\n",
      "Epoch 25/50\n",
      "30/30 [==============================] - 61s 2s/step - loss: 0.2949 - accuracy: 0.9500 - val_loss: 0.5415 - val_accuracy: 0.8800\n",
      "Epoch 26/50\n",
      "30/30 [==============================] - 61s 2s/step - loss: 0.1562 - accuracy: 0.9667 - val_loss: 0.0172 - val_accuracy: 0.8733\n",
      "Epoch 27/50\n",
      "30/30 [==============================] - 60s 2s/step - loss: 0.1376 - accuracy: 0.9683 - val_loss: 0.0015 - val_accuracy: 0.8600\n",
      "Epoch 28/50\n",
      "30/30 [==============================] - 60s 2s/step - loss: 0.1407 - accuracy: 0.9683 - val_loss: 5.8174e-06 - val_accuracy: 0.9200\n",
      "Epoch 29/50\n",
      "30/30 [==============================] - 60s 2s/step - loss: 0.1275 - accuracy: 0.9767 - val_loss: 2.5156 - val_accuracy: 0.8267\n",
      "Epoch 30/50\n",
      "30/30 [==============================] - 60s 2s/step - loss: 0.1187 - accuracy: 0.9783 - val_loss: 0.0033 - val_accuracy: 0.9067\n",
      "Epoch 31/50\n",
      "30/30 [==============================] - 60s 2s/step - loss: 0.1138 - accuracy: 0.9767 - val_loss: 1.0729e-07 - val_accuracy: 0.8733\n",
      "Epoch 32/50\n",
      "30/30 [==============================] - 60s 2s/step - loss: 0.0622 - accuracy: 0.9867 - val_loss: 1.1921e-07 - val_accuracy: 0.8667\n",
      "Epoch 33/50\n",
      "30/30 [==============================] - 60s 2s/step - loss: 0.0572 - accuracy: 0.9883 - val_loss: 3.0788e-05 - val_accuracy: 0.9067\n",
      "Epoch 34/50\n",
      "30/30 [==============================] - 61s 2s/step - loss: 0.0534 - accuracy: 0.9883 - val_loss: 1.9925e-04 - val_accuracy: 0.9000\n",
      "Epoch 35/50\n",
      "30/30 [==============================] - 60s 2s/step - loss: 0.0111 - accuracy: 0.9933 - val_loss: 0.5373 - val_accuracy: 0.8667\n",
      "Epoch 36/50\n",
      "30/30 [==============================] - 60s 2s/step - loss: 0.0011 - accuracy: 1.0000 - val_loss: 6.6546e-05 - val_accuracy: 0.9000\n",
      "Epoch 37/50\n",
      "30/30 [==============================] - 60s 2s/step - loss: 0.0113 - accuracy: 0.9967 - val_loss: 2.8405e-05 - val_accuracy: 0.9000\n",
      "Epoch 38/50\n",
      "30/30 [==============================] - 60s 2s/step - loss: 0.0027 - accuracy: 0.9983 - val_loss: 7.1526e-08 - val_accuracy: 0.9000\n",
      "Epoch 39/50\n",
      "30/30 [==============================] - 61s 2s/step - loss: 0.0260 - accuracy: 0.9967 - val_loss: 4.6797e-04 - val_accuracy: 0.9000\n",
      "Epoch 40/50\n",
      "30/30 [==============================] - 61s 2s/step - loss: 4.7240e-04 - accuracy: 1.0000 - val_loss: 4.4255e-04 - val_accuracy: 0.8800\n",
      "Epoch 41/50\n",
      "30/30 [==============================] - 61s 2s/step - loss: 5.1919e-04 - accuracy: 1.0000 - val_loss: 0.0023 - val_accuracy: 0.8800\n",
      "Epoch 42/50\n",
      "30/30 [==============================] - 61s 2s/step - loss: 1.2821e-04 - accuracy: 1.0000 - val_loss: 0.0012 - val_accuracy: 0.8867\n",
      "Epoch 43/50\n",
      "30/30 [==============================] - 61s 2s/step - loss: 4.5262e-05 - accuracy: 1.0000 - val_loss: 0.0010 - val_accuracy: 0.8867\n",
      "Epoch 44/50\n",
      "30/30 [==============================] - 61s 2s/step - loss: 2.6668e-04 - accuracy: 1.0000 - val_loss: 0.0014 - val_accuracy: 0.8867\n",
      "Epoch 45/50\n",
      "30/30 [==============================] - 61s 2s/step - loss: 7.0793e-05 - accuracy: 1.0000 - val_loss: 0.0019 - val_accuracy: 0.8867\n",
      "Epoch 46/50\n",
      "30/30 [==============================] - 60s 2s/step - loss: 2.0549e-04 - accuracy: 1.0000 - val_loss: 0.0065 - val_accuracy: 0.8933\n",
      "Epoch 47/50\n",
      "30/30 [==============================] - 62s 2s/step - loss: 0.0012 - accuracy: 1.0000 - val_loss: 4.3660e-05 - val_accuracy: 0.8933\n",
      "Epoch 48/50\n",
      "30/30 [==============================] - 61s 2s/step - loss: 5.8624e-05 - accuracy: 1.0000 - val_loss: 2.7821e-05 - val_accuracy: 0.8933\n",
      "Epoch 49/50\n",
      "30/30 [==============================] - 62s 2s/step - loss: 4.0736e-04 - accuracy: 1.0000 - val_loss: 0.0015 - val_accuracy: 0.9067\n",
      "Epoch 50/50\n",
      "30/30 [==============================] - 62s 2s/step - loss: 1.1056e-05 - accuracy: 1.0000 - val_loss: 0.0045 - val_accuracy: 0.9067\n"
     ]
    }
   ],
   "source": [
    "# Train the Model\n",
    "history = model.fit_generator(\n",
    "      train_generator,\n",
    "      steps_per_epoch=train_generator.samples/train_generator.batch_size ,\n",
    "      epochs=50,\n",
    "      validation_data=validation_generator,\n",
    "      validation_steps=validation_generator.samples/validation_generator.batch_size,\n",
    "      verbose=1)"
   ]
  },
  {
   "cell_type": "code",
   "execution_count": 11,
   "metadata": {
    "ExecuteTime": {
     "end_time": "2020-01-23T07:50:33.928963Z",
     "start_time": "2020-01-23T07:50:32.663397Z"
    }
   },
   "outputs": [
    {
     "data": {
      "image/png": "[encoded data removed]",
      "text/plain": [
       "<Figure size 432x288 with 1 Axes>"
      ]
     },
     "metadata": {
      "needs_background": "light"
     },
     "output_type": "display_data"
    },
    {
     "data": {
      "image/png": "[encoded data removed]",
      "text/plain": [
       "<Figure size 432x288 with 1 Axes>"
      ]
     },
     "metadata": {
      "needs_background": "light"
     },
     "output_type": "display_data"
    }
   ],
   "source": [
    "# Save the Model\n",
    "model.save('all_freezed.h5')\n",
    "\n",
    "# Plot the accuracy and loss curves\n",
    "acc = history.history['accuracy']\n",
    "val_acc = history.history['val_accuracy']\n",
    "loss = history.history['loss']\n",
    "val_loss = history.history['val_loss']\n",
    "\n",
    "epochs = range(len(acc))\n",
    "\n",
    "plt.plot(epochs, acc, 'b', label='Training acc')\n",
    "plt.plot(epochs, val_acc, 'r', label='Validation acc')\n",
    "plt.title('Training and validation accuracy')\n",
    "plt.legend()\n",
    "\n",
    "plt.figure()\n",
    "\n",
    "plt.plot(epochs, loss, 'b', label='Training loss')\n",
    "plt.plot(epochs, val_loss, 'r', label='Validation loss')\n",
    "plt.title('Training and validation loss')\n",
    "plt.legend()\n",
    "\n",
    "plt.show()"
   ]
  }
 ],
 "metadata": {
  "kernelspec": {
   "display_name": "Python 3",
   "language": "python",
   "name": "python3"
  },
  "language_info": {
   "codemirror_mode": {
    "name": "ipython",
    "version": 3
   },
   "file_extension": ".py",
   "mimetype": "text/x-python",
   "name": "python",
   "nbconvert_exporter": "python",
   "pygments_lexer": "ipython3",
   "version": "3.7.4"
  },
  "varInspector": {
   "cols": {
    "lenName": 16,
    "lenType": 16,
    "lenVar": 40
   },
   "kernels_config": {
    "python": {
     "delete_cmd_postfix": "",
     "delete_cmd_prefix": "del ",
     "library": "var_list.py",
     "varRefreshCmd": "print(var_dic_list())"
    },
    "r": {
     "delete_cmd_postfix": ") ",
     "delete_cmd_prefix": "rm(",
     "library": "var_list.r",
     "varRefreshCmd": "cat(var_dic_list()) "
    }
   },
   "types_to_exclude": [
    "module",
    "function",
    "builtin_function_or_method",
    "instance",
    "_Feature"
   ],
   "window_display": false
  }
 },
 "nbformat": 4,
 "nbformat_minor": 2
}
